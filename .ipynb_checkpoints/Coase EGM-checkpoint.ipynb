{
 "cells": [
  {
   "cell_type": "markdown",
   "metadata": {},
   "source": [
    "# Coase's Theory of the Firm with Endgoenous Grid"
   ]
  },
  {
   "cell_type": "code",
   "execution_count": 1,
   "metadata": {},
   "outputs": [],
   "source": [
    "import numpy as np\n",
    "import matplotlib.pyplot as plt\n",
    "%matplotlib inline\n",
    "from scipy.optimize import fminbound\n",
    "from interpolation import interp"
   ]
  },
  {
   "cell_type": "markdown",
   "metadata": {},
   "source": [
    "## Getting the Euler equation"
   ]
  },
  {
   "cell_type": "markdown",
   "metadata": {},
   "source": [
    "Recall the bellman equation for this problem\n",
    "\n",
    "$$\n",
    "p^*(s) = \\min_{t \\leq s}  \\,\n",
    "        \\{ c(s-t) + \\delta p^*(t) \\}\n",
    "       \\quad \\text{for all} \\quad\n",
    "       s \\in [0,1]. \\tag{1}\n",
    "$$\n",
    "\n",
    "We assume that $ c $ is continuously differentiable, with $ c(0)=0 $ and $ c'(0) > 0 $.\n",
    "\n",
    "we know that the range of task ($l$) is detemined by $l=s-t$.\n",
    "\n",
    "This means we can change the above bellman equation to.\n",
    "\n",
    "$$\n",
    "p^*(s) = \\min_{0\\leq l \\leq s}  \\,\n",
    "        \\{ c(l) + \\delta p^*(s-l) \\}\n",
    "       \\quad \\text{for all} \\quad\n",
    "       s \\in [0,1]. \\tag{2}\n",
    "$$\n",
    "\n",
    "This is change the firms choice from choosing $t$ to choosing $l$ but as $s$ is given when the firm chooses $t$ their effectivly choosing $l$. So this choice is interchangeable. \n",
    "\n",
    "\n",
    "let $\\sigma^*$ denote the optimal policy.\n",
    "\n",
    "When means that $\\sigma^*(s)$ is the minimizer of $p^*(s)$.\n",
    "\n",
    "If we take the deriviative of ($1$) naively with respect to $s$ we get.\n",
    "\n",
    "$$\n",
    "p'(s)=c'(s-t)\n",
    "$$\n",
    "evaluating this at the optimum of $\\sigma^*(s)$ gives\n",
    "\n",
    "$$\n",
    "(p^*)'(s)=c'(\\sigma^*(s)) = (c'\\circ \\sigma^*)(s) \\tag{3}\n",
    "$$\n",
    "\n",
    "Now taking the first order condistion of ($2$) gives.\n",
    "\n",
    "$$\n",
    "c'(\\sigma^*(s))=\\delta (p^*)'(s-\\sigma^*(s)) \n",
    "$$\n",
    "\n",
    "using the fact of ($3$) gives.\n",
    "\n",
    "$$\n",
    "c'(\\sigma^*(s))=\\delta (c'\\circ σ^*)(s-\\sigma^*(s)) \n",
    "$$\n",
    "This gives us the Euler equation\n",
    "$$\n",
    "c'(\\sigma(s))=\\delta (c'\\circ \\sigma)(s-\\sigma(s)) \n",
    "$$\n",
    "\n",
    "Now New can turn this intpo a functional equation\n",
    "$$\n",
    "(c'\\circ\\sigma)(s)=\\delta (c'\\circ \\sigma)(s-\\sigma(s)) \n",
    "$$\n"
   ]
  },
  {
   "cell_type": "markdown",
   "metadata": {},
   "source": [
    "## The Operator\n",
    "\n",
    "Our operator $K$ will act on the set of $\\sigma\\in\\Sigma$.\n",
    "\n",
    "THe set of policies will be denoted by $P$.\n",
    "\n",
    "This operator $K$ will take a policy $\\sigma\\in P$ and will return a new function $K\\sigma$\n",
    "\n",
    "This means that $K\\sigma(s)$ is the $l\\in[0,s]$ to solve the Euler equation. \n",
    "\n",
    "Now by construction K fixed point will conincided with the solution of the Euler functional equation.\n",
    "\n",
    "Indeed for a fixed $s$ $K\\sigma^*(s)$ is the optimal $l\\in[0,s]$ Euler equation.\n",
    "\n"
   ]
  },
  {
   "cell_type": "markdown",
   "metadata": {},
   "source": [
    "## Endogenous grid\n",
    "\n",
    "becuase we knwo that $l=s-t$ we can make our $s$ grid endogenous. Making use of the Euler equation we get.\n",
    "$$\n",
    "l = (c')^{-1}\\left(\\delta(c'\\circ \\sigma)(t)\\right)\n",
    "$$\n",
    "Then using  $l$ and $t$ we can get $s$, and now we can use the points $(s,l)$ to evaluate $K\\sigma$\n",
    "\n",
    "Now we have a path to the solution. Iterating through the process above til convergence we will get the optimal $l^*$ given $s$ for each firm."
   ]
  },
  {
   "cell_type": "markdown",
   "metadata": {},
   "source": [
    "## Implementation\n",
    "Set up a calss ``ProductionChain`` to for our primitives. We require that our cost function be increase, continuously differentiable and strictly convex and $c(0)=0$"
   ]
  },
  {
   "cell_type": "code",
   "execution_count": 2,
   "metadata": {},
   "outputs": [],
   "source": [
    "class ProductionChain:\n",
    "\n",
    "    def __init__(self,\n",
    "            n=10000,      \n",
    "            delta=1.05 #Transaction cost muiltiplyer\n",
    "                ):\n",
    "\n",
    "        self.n, self.delta = n, delta\n",
    "        \n",
    "        # each firms t postion held in array t_grid\n",
    "        self.t_grid = np.linspace(0, 1, n)\n",
    "        \n",
    "    # The cost function of having range of tasks l\n",
    "    def c(self, x):\n",
    "        return np.exp(10*x)-1\n",
    "    # Derivative of cost function\n",
    "    def c_prime(self,x):\n",
    "        return 10*np.exp(10*x)\n",
    "    # Inverse of cost functions derivative.\n",
    "    def c_prime_inverse(self,dc):\n",
    "        return (1/10)*(np.log(dc)-np.log(10))"
   ]
  },
  {
   "cell_type": "code",
   "execution_count": 3,
   "metadata": {},
   "outputs": [],
   "source": [
    "pc = ProductionChain()"
   ]
  },
  {
   "cell_type": "markdown",
   "metadata": {},
   "source": [
    "Now I need to create the operator ``K``. For a given function of the optimal policy (``σ``) determine what point ``l`` takes for each ``t``. Then determine ``s`` and update ``σ`` using the points from ``s`` and ``l``."
   ]
  },
  {
   "cell_type": "code",
   "execution_count": 4,
   "metadata": {},
   "outputs": [],
   "source": [
    "def K(σ, pc):\n",
    "    \"\"\"\n",
    "    operater K to determine updated σ_new\n",
    "    σ is our current policy function\n",
    "    pc is an instance of the ProductionChain class.\n",
    "    \"\"\"\n",
    "    \n",
    "    \n",
    "    t_grid = pc.t_grid\n",
    "    \n",
    "    l = np.empty_like(t_grid)\n",
    "    ell = np.empty_like(l)\n",
    "    \n",
    "    for i,t in enumerate(t_grid):\n",
    "        x = pc.delta*pc.c_prime(σ(t))\n",
    "        l[i] = pc.c_prime_inverse(x)\n",
    "\n",
    "    \n",
    "    # update policy\n",
    "    l = np.minimum(l, t_grid)\n",
    "    s = l+  t_grid\n",
    "\n",
    "    \n",
    "    σ_new = lambda x: interp(s, l, x)\n",
    "    \n",
    "\n",
    "    \n",
    "    return σ_new"
   ]
  },
  {
   "cell_type": "markdown",
   "metadata": {},
   "source": [
    "Now I'll create a function which iterates through the operator ``K`` until the updated ``σ`` function has converged."
   ]
  },
  {
   "cell_type": "code",
   "execution_count": 5,
   "metadata": {},
   "outputs": [],
   "source": [
    "def solve_model(pc,tol=1e-05, max_iter=1000, verbose=True, print_skip=25):\n",
    "    \n",
    "    \n",
    "    error = tol+1\n",
    "    t_grid =pc.t_grid\n",
    "    i=0\n",
    "    σ= lambda x: x # intial guess\n",
    "    l_new = np.zeros(len(t_grid))\n",
    "    \n",
    "    while error > tol and i < max_iter and np.max(l_new)<=1:\n",
    "        \n",
    "        σ_new = K(σ, pc)\n",
    "        l = σ(t_grid)\n",
    "        l_new =  σ_new(t_grid)\n",
    "        \n",
    "        error = np.max(np.abs(l-l_new))\n",
    "        \n",
    "        if verbose and i % print_skip == 0:\n",
    "            print(f\"Error at iteration {i} is {error}.\")\n",
    "            \n",
    "        σ = σ_new\n",
    "        i+=1\n",
    "        \n",
    "    if i < max_iter:\n",
    "        print(f\"Iteration converged in {i} steps\")\n",
    "    else:\n",
    "        print(f\"Warning: iteration hit upper bound {max_iter}\")\n",
    "    \n",
    "    return σ"
   ]
  },
  {
   "cell_type": "code",
   "execution_count": 6,
   "metadata": {},
   "outputs": [
    {
     "name": "stdout",
     "output_type": "stream",
     "text": [
      "Error at iteration 0 is 0.5.\n",
      "Iteration converged in 20 steps\n"
     ]
    }
   ],
   "source": [
    "σ_star = solve_model(pc)"
   ]
  },
  {
   "cell_type": "code",
   "execution_count": 7,
   "metadata": {},
   "outputs": [
    {
     "data": {
      "image/png": "[encoded data removed]",
      "text/plain": [
       "<Figure size 432x288 with 1 Axes>"
      ]
     },
     "metadata": {
      "needs_background": "light"
     },
     "output_type": "display_data"
    }
   ],
   "source": [
    "l_star = σ_star(pc.t_grid)\n",
    "\n",
    "fig,ax = plt.subplots()\n",
    "\n",
    "ax.plot(pc.t_grid, l_star, label=r'$\\ell^*$')\n",
    "\n",
    "\n",
    "ax.set_ylabel(r'$\\ell$', fontsize=12)\n",
    "ax.set_xlabel(r'$t$', fontsize=12)\n",
    "\n",
    "\n",
    "ax.legend(fontsize=12)\n",
    "plt.show()"
   ]
  },
  {
   "cell_type": "markdown",
   "metadata": {},
   "source": [
    "We can now determine how many firms there are and range of tasks each will perform"
   ]
  },
  {
   "cell_type": "code",
   "execution_count": 8,
   "metadata": {},
   "outputs": [],
   "source": [
    "def t(σ_star):    \n",
    "    s=1.0\n",
    "    t = [s]\n",
    "    while σ_star(s)!=0:\n",
    "        s = s - σ_star(s)\n",
    "        t.append(s)\n",
    "    return np.array(t)"
   ]
  },
  {
   "cell_type": "code",
   "execution_count": 9,
   "metadata": {},
   "outputs": [],
   "source": [
    "t = t(σ_star)"
   ]
  },
  {
   "cell_type": "code",
   "execution_count": 10,
   "metadata": {},
   "outputs": [
    {
     "data": {
      "image/png": "[encoded data removed]",
      "text/plain": [
       "<Figure size 864x864 with 1 Axes>"
      ]
     },
     "metadata": {
      "needs_background": "light"
     },
     "output_type": "display_data"
    }
   ],
   "source": [
    "fig,ax = plt.subplots(figsize=(12,12))\n",
    "\n",
    "ax.plot(pc.t_grid, l_star, label=r'$\\ell^*$')\n",
    "ax.set_xlim(0.0, 1.0)\n",
    "for s in t:\n",
    "    ax.axvline(x=s, c=\"0.5\")\n",
    "    \n",
    "ax.set_ylabel(r'$\\ell$', fontsize=12)\n",
    "ax.set_xlabel(r'$t$', fontsize=12)\n",
    "ax.legend(fontsize=12)\n",
    "plt.show()"
   ]
  },
  {
   "cell_type": "markdown",
   "metadata": {},
   "source": [
    "## Compare to johns code"
   ]
  },
  {
   "cell_type": "code",
   "execution_count": 11,
   "metadata": {},
   "outputs": [],
   "source": [
    "import numpy as np\n",
    "import matplotlib.pyplot as plt\n",
    "%matplotlib inline\n",
    "from scipy.optimize import fminbound\n",
    "from interpolation import interp"
   ]
  },
  {
   "cell_type": "code",
   "execution_count": 12,
   "metadata": {},
   "outputs": [],
   "source": [
    "class ProductionChain_j:\n",
    "\n",
    "    def __init__(self,\n",
    "            n=1000,\n",
    "            delta=1.05,\n",
    "            c=lambda t: np.exp(10 * t) - 1):\n",
    "\n",
    "        self.n, self.delta, self.c = n, delta, c\n",
    "        self.grid = np.linspace(1e-04, 1, n)"
   ]
  },
  {
   "cell_type": "code",
   "execution_count": 13,
   "metadata": {},
   "outputs": [],
   "source": [
    "def compute_prices(pc, tol=1e-5, max_iter=5000):\n",
    "    \"\"\"\n",
    "    Compute prices by iterating with T\n",
    "\n",
    "        * pc is an instance of ProductionChain\n",
    "        * The initial condition is p = c\n",
    "\n",
    "    \"\"\"\n",
    "    delta, c, n, grid = pc.delta, pc.c, pc.n, pc.grid\n",
    "    p = c(grid)  # Initial condition is c(s), as an array\n",
    "    new_p = np.empty_like(p)\n",
    "    error = tol + 1\n",
    "    i = 0\n",
    "\n",
    "    while error > tol and i < max_iter:\n",
    "        for i, s in enumerate(grid):\n",
    "            Tp = lambda t: delta * interp(grid, p, t) + c(s - t)\n",
    "            new_p[i] = Tp(fminbound(Tp, 0, s))\n",
    "        error = np.max(np.abs(p - new_p))\n",
    "        p = new_p\n",
    "        i = i + 1\n",
    "\n",
    "    if i < max_iter:\n",
    "        print(f\"Iteration converged in {i} steps\")\n",
    "    else:\n",
    "        print(f\"Warning: iteration hit upper bound {max_iter}\")\n",
    "\n",
    "    p_func = lambda x: interp(grid, p, x)\n",
    "    return p_func"
   ]
  },
  {
   "cell_type": "code",
   "execution_count": 14,
   "metadata": {},
   "outputs": [],
   "source": [
    "def optimal_choices(pc, p_function, s):\n",
    "    \"\"\"\n",
    "    Takes p_func as the true function, minimizes on [0,s]\n",
    "\n",
    "    Returns optimal upstream boundary t_star and optimal size of\n",
    "    firm ell_star\n",
    "\n",
    "    In fact, the algorithm minimizes on [-1,s] and then takes the\n",
    "    max of the minimizer and zero. This results in better results\n",
    "    close to zero\n",
    "\n",
    "    \"\"\"\n",
    "    delta, c = pc.delta, pc.c\n",
    "    f = lambda t: delta * p_function(t) + c(s - t)\n",
    "    t_star = max(fminbound(f, -1, s), 0)\n",
    "    ell_star = s - t_star\n",
    "    return t_star, ell_star"
   ]
  },
  {
   "cell_type": "code",
   "execution_count": 15,
   "metadata": {},
   "outputs": [],
   "source": [
    "def compute_stages(pc, p_function):\n",
    "    s = 1.0\n",
    "    transaction_stages = [s]\n",
    "    while s > 0:\n",
    "        s, ell = optimal_choices(pc, p_function, s)\n",
    "        transaction_stages.append(s)\n",
    "    return np.array(transaction_stages)"
   ]
  },
  {
   "cell_type": "code",
   "execution_count": 16,
   "metadata": {},
   "outputs": [
    {
     "name": "stdout",
     "output_type": "stream",
     "text": [
      "Iteration converged in 1000 steps\n"
     ]
    },
    {
     "data": {
      "image/png": "[encoded data removed]",
      "text/plain": [
       "<Figure size 432x288 with 1 Axes>"
      ]
     },
     "metadata": {
      "needs_background": "light"
     },
     "output_type": "display_data"
    }
   ],
   "source": [
    "pc_j = ProductionChain_j()\n",
    "p_star = compute_prices(pc_j)\n",
    "\n",
    "transaction_stages = compute_stages(pc_j, p_star)\n",
    "\n",
    "fig, ax = plt.subplots()\n",
    "\n",
    "ax.plot(pc_j.grid, p_star(pc_j.grid))\n",
    "ax.set_xlim(0.0, 1.0)\n",
    "ax.set_ylim(0.0)\n",
    "for s in transaction_stages:\n",
    "    ax.axvline(x=s, c=\"0.5\")\n",
    "plt.show()"
   ]
  },
  {
   "cell_type": "code",
   "execution_count": 17,
   "metadata": {},
   "outputs": [
    {
     "data": {
      "image/png": "[encoded data removed]",
      "text/plain": [
       "<Figure size 432x288 with 1 Axes>"
      ]
     },
     "metadata": {
      "needs_background": "light"
     },
     "output_type": "display_data"
    }
   ],
   "source": [
    "\n",
    "\n",
    "ell_star = np.empty(pc_j.n)\n",
    "for i, s in enumerate(pc_j.grid):\n",
    "    t, e = optimal_choices(pc_j, p_star, s)\n",
    "    ell_star[i] = e #johns ell*\n",
    "\n",
    "\n",
    "    \n",
    "    \n",
    "fig, ax = plt.subplots()\n",
    "\n",
    "ax.plot(pc_j.grid, ell_star, label=\"$\\ell^*$\")\n",
    "\n",
    "\n",
    "ax.set_ylabel(r'$\\ell$', fontsize=12)\n",
    "ax.set_xlabel(r'$t$', fontsize=12)\n",
    "\n",
    "ax.legend(fontsize=14)\n",
    "plt.show()"
   ]
  },
  {
   "cell_type": "code",
   "execution_count": 18,
   "metadata": {},
   "outputs": [
    {
     "data": {
      "image/png": "[encoded data removed]",
      "text/plain": [
       "<Figure size 432x288 with 1 Axes>"
      ]
     },
     "metadata": {
      "needs_background": "light"
     },
     "output_type": "display_data"
    }
   ],
   "source": [
    "l_star = σ_star(pc.t_grid) # my ell*\n",
    "\n",
    "\n",
    "fig, ax = plt.subplots()\n",
    "ax.plot(pc.t_grid, l_star, label=r'$\\ell^*_h$')\n",
    "ax.plot(pc_j.grid, ell_star, label=\"$\\ell^*_j$\")\n",
    "\n",
    "\n",
    "ax.set_ylabel(r'$\\ell$', fontsize=12)\n",
    "ax.set_xlabel(r'$t$', fontsize=12)\n",
    "\n",
    "ax.legend(fontsize=14)\n",
    "plt.show()"
   ]
  },
  {
   "cell_type": "code",
   "execution_count": null,
   "metadata": {},
   "outputs": [],
   "source": []
  }
 ],
 "metadata": {
  "kernelspec": {
   "display_name": "Python 3",
   "language": "python",
   "name": "python3"
  },
  "language_info": {
   "codemirror_mode": {
    "name": "ipython",
    "version": 3
   },
   "file_extension": ".py",
   "mimetype": "text/x-python",
   "name": "python",
   "nbconvert_exporter": "python",
   "pygments_lexer": "ipython3",
   "version": "3.7.6"
  }
 },
 "nbformat": 4,
 "nbformat_minor": 2
}
